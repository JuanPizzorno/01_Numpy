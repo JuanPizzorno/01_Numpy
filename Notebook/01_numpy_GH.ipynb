{
 "cells": [
  {
   "cell_type": "code",
   "execution_count": 1,
   "id": "6dab3ff5",
   "metadata": {},
   "outputs": [
    {
     "data": {
      "text/plain": [
       "array([['10107', '2871', '2', '2003', 'Motorcycles', 'USA'],\n",
       "       ['10121', '2765.9', '5', '2003', 'Motorcycles', 'France'],\n",
       "       ['10134', '3884.34', '7', '2003', 'Motorcycles', 'France'],\n",
       "       ...,\n",
       "       ['10386', '5417.57', '3', '2005', 'Ships', 'Spain'],\n",
       "       ['10397', '2116.16', '3', '2005', 'Ships', 'France'],\n",
       "       ['10414', '3079.44', '5', '2005', 'Ships', 'USA']], dtype='<U16')"
      ]
     },
     "execution_count": 1,
     "metadata": {},
     "output_type": "execute_result"
    }
   ],
   "source": [
    "# A continuación vamos a utilizar algunas herramientas que nos provee Numpy.\n",
    "# Vamos a utilizar un dataset de Kaggle que tiene datos de ventas:\n",
    "\n",
    "# https://www.kaggle.com/kyanyoga/sample-sales-data\n",
    "\n",
    "\n",
    "\n",
    "import numpy as np\n",
    "\n",
    "data_location = '../Data/sales_data_sample_excercise.csv'\n",
    "\n",
    "data = np.genfromtxt(data_location, skip_header=1, delimiter='\\t', dtype= str)\n",
    "data"
   ]
  },
  {
   "cell_type": "code",
   "execution_count": 2,
   "id": "03c93bbb",
   "metadata": {},
   "outputs": [],
   "source": [
    "# Comprobamos que este archivo tiene algunos datos numéricos y otros de tipo cadena de caracteres.\n",
    "\n",
    "# Las Columnas son: \n",
    "\n",
    "# ORDERNUMBER: int, id de la orden.\n",
    "# SALES: float, monto abonado\n",
    "# MONTH_ID: int, mes\n",
    "# YEAR_ID: int, año\n",
    "# PRODUCTLINE: str, producto\n",
    "# COUNTRY: str, país de venta"
   ]
  },
  {
   "cell_type": "code",
   "execution_count": 3,
   "id": "bfaff825",
   "metadata": {},
   "outputs": [
    {
     "name": "stdout",
     "output_type": "stream",
     "text": [
      "[2871.   2765.9  3884.34 ... 5417.57 2116.16 3079.44]\n",
      "['USA' 'France' 'France' ... 'Spain' 'France' 'USA']\n"
     ]
    }
   ],
   "source": [
    "# Creamos un array numérico que tenga como valores la columna SALES \n",
    "# y otro array de str que tenga como valores la columna COUNTRY\n",
    "\n",
    "sales_vector_str = data[:, 1]\n",
    "sales_vector =  sales_vector_str.astype(np.float)\n",
    "print(sales_vector)\n",
    "\n",
    "country_vector = data[:, 5]\n",
    "print(country_vector)"
   ]
  },
  {
   "cell_type": "code",
   "execution_count": 4,
   "id": "e96adc14",
   "metadata": {},
   "outputs": [
    {
     "name": "stdout",
     "output_type": "stream",
     "text": [
      "482.13\n",
      "14082.8\n"
     ]
    }
   ],
   "source": [
    "# ¿Cuál fue el monto mínimo de una venta? ¿Cuál fue el monto máximo?\n",
    "\n",
    "monto_min = sales_vector.min()\n",
    "monto_max = sales_vector.max()\n",
    "print(monto_min)\n",
    "print(monto_max)"
   ]
  },
  {
   "cell_type": "code",
   "execution_count": 5,
   "id": "7451ca41",
   "metadata": {},
   "outputs": [
    {
     "name": "stdout",
     "output_type": "stream",
     "text": [
      "[False False False ...  True False False]\n"
     ]
    },
    {
     "data": {
      "text/plain": [
       "342"
      ]
     },
     "execution_count": 5,
     "metadata": {},
     "output_type": "execute_result"
    }
   ],
   "source": [
    "# ¿Cuántas ventas se hicieron en Spain?\n",
    "# Utilicemos una máscara booleana! \n",
    "\n",
    "ventas_spain_mask = country_vector == 'Spain'\n",
    "print(ventas_spain_mask)\n",
    "ventas_spain = country_vector[ventas_spain_mask]\n",
    "cant_ventas_spain = ventas_spain.size\n",
    "cant_ventas_spain"
   ]
  },
  {
   "cell_type": "code",
   "execution_count": 6,
   "id": "ba9cc3d9",
   "metadata": {},
   "outputs": [
    {
     "data": {
      "text/plain": [
       "12.114771519659936"
      ]
     },
     "execution_count": 6,
     "metadata": {},
     "output_type": "execute_result"
    }
   ],
   "source": [
    "# ¿Qué porcentaje de las ventas se hicieron en Spain?\n",
    "\n",
    "cant_ventas_total = country_vector.size\n",
    "porc_spain = 100* cant_ventas_spain / cant_ventas_total\n",
    "porc_spain"
   ]
  },
  {
   "cell_type": "code",
   "execution_count": 7,
   "id": "35124c62",
   "metadata": {},
   "outputs": [
    {
     "name": "stdout",
     "output_type": "stream",
     "text": [
      "USA\n",
      "10407\n"
     ]
    }
   ],
   "source": [
    "# ¿Cuál es el país de la venta de precio máximo? ¿Cuál es el id de esa venta?\n",
    "\n",
    "precio_max = sales_vector.max()\n",
    "#print(precio_max)\n",
    "precio_max_mask = sales_vector == precio_max\n",
    "#print(precio_max_mask)\n",
    "pais_max_precio = country_vector[precio_max_mask][0]\n",
    "print(pais_max_precio)\n",
    "\n",
    "id_vector_str = data[:, 0]\n",
    "id_vector =  id_vector_str.astype(np.int)\n",
    "id_max_precio = id_vector[precio_max_mask][0]\n",
    "print(id_max_precio)"
   ]
  },
  {
   "cell_type": "code",
   "execution_count": 8,
   "id": "f7bbb9b0",
   "metadata": {},
   "outputs": [
    {
     "name": "stdout",
     "output_type": "stream",
     "text": [
      "3537.9507006369427\n",
      "1939.214360481481\n"
     ]
    }
   ],
   "source": [
    "# ¿Cuál es el precio promedio de ventas en France? ¿Cuál es el desvío?\n",
    "\n",
    "ventas_france_mask = country_vector == 'France'\n",
    "precios_france = sales_vector[ventas_france_mask]\n",
    "\n",
    "promedio_france = precios_france.mean()\n",
    "print(promedio_france)\n",
    "desvio_france = precios_france.std()\n",
    "print(desvio_france)"
   ]
  },
  {
   "cell_type": "code",
   "execution_count": 9,
   "id": "d2b7d85c",
   "metadata": {},
   "outputs": [
    {
     "name": "stdout",
     "output_type": "stream",
     "text": [
      "[2003 2004 2005]\n",
      "[1860.7718844747073, 1837.8438485766644, 2241.7723043613423]\n",
      "2005\n"
     ]
    }
   ],
   "source": [
    "# ¿Cuál fue el año con máximo desvío en las ventas en France?\n",
    "\n",
    "data_france_mask = country_vector == 'France'  \n",
    "# Máscara booleana para filtrar los datos de Francia\n",
    "\n",
    "data_france_sales = data[data_france_mask, 1]\n",
    "data_france_years = data[data_france_mask, 3]\n",
    "# Seleccionamos las ventas y los años para los datos filtrados\n",
    "\n",
    "data_france_years_num = data_france_years.astype(np.int)\n",
    "# Convertimos los años a tipo entero\n",
    "\n",
    "years_unique = np.unique(data_france_years_num)\n",
    "print(years_unique)\n",
    "# Obtenemos los años únicos para Francia\n",
    "\n",
    "desvios = []\n",
    "for year in years_unique:\n",
    "    years_vector_mask = data_france_years_num == year\n",
    "    precios_year_mask = data_france_sales[years_vector_mask].astype(np.float)    \n",
    "    desvio_year = precios_year_mask.std()\n",
    "    desvios.append(desvio_year)\n",
    "\n",
    "print(desvios)\n",
    "# Calculamos las desviaciones estándar para cada año\n",
    "\n",
    "desvio_max = np.array(desvios).max()\n",
    "# Obtenemos la desviación estándar máxima\n",
    "\n",
    "desvios_max_mask = desvios == desvio_max\n",
    "# Creamos una máscara booleana para identificar el año con la desviación máxima\n",
    "\n",
    "year_desvio_max = years_unique[desvios_max_mask][0]\n",
    "print(year_desvio_max)\n",
    "# Obtenemos el año correspondiente a la desviación máxima! :D"
   ]
  },
  {
   "cell_type": "code",
   "execution_count": null,
   "id": "bcab5da7",
   "metadata": {},
   "outputs": [],
   "source": []
  }
 ],
 "metadata": {
  "kernelspec": {
   "display_name": "Python 3 (ipykernel)",
   "language": "python",
   "name": "python3"
  },
  "language_info": {
   "codemirror_mode": {
    "name": "ipython",
    "version": 3
   },
   "file_extension": ".py",
   "mimetype": "text/x-python",
   "name": "python",
   "nbconvert_exporter": "python",
   "pygments_lexer": "ipython3",
   "version": "3.8.12"
  }
 },
 "nbformat": 4,
 "nbformat_minor": 5
}
